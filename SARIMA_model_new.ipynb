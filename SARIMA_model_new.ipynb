{
 "cells": [
  {
   "cell_type": "code",
   "execution_count": 1,
   "id": "70e169b9-e2f7-4b92-9bbe-e9f038051ef4",
   "metadata": {},
   "outputs": [],
   "source": [
    "import numpy as np\n",
    "import pandas as pd\n",
    "import seaborn as sns\n",
    "import torch\n",
    "import torch.nn as nn\n",
    "import torch.optim as optim\n",
    "from torch.utils.data import DataLoader, TensorDataset\n",
    "from sklearn.preprocessing import MinMaxScaler\n",
    "import matplotlib.pyplot as plt\n",
    "import math, time, os, datetime, psutil\n",
    "from sklearn.metrics import accuracy_score, precision_score, recall_score, f1_score, roc_auc_score, confusion_matrix\n",
    "from statsmodels.tsa.statespace.sarimax import SARIMAX\n",
    "from pmdarima import auto_arima\n",
    "import warnings\n",
    "import random\n",
    "from memory_profiler import memory_usage\n",
    "import gc"
   ]
  },
  {
   "cell_type": "code",
   "execution_count": 2,
   "id": "152e12ac-5255-45d9-8039-8dee3557b761",
   "metadata": {},
   "outputs": [],
   "source": [
    "col='CallIn'\n",
    "n_grids=2"
   ]
  },
  {
   "cell_type": "code",
   "execution_count": 3,
   "id": "ecc1e0e2-d558-49a3-8cad-e1b56feaa08c",
   "metadata": {},
   "outputs": [],
   "source": [
    "# Loading datad\n",
    "df_train = pd.read_parquet(f\"../data/train_data_2025-06-26_17-16-54.parquet\")\n",
    "df_test = pd.read_parquet(f\"../data/test_data_scaled_2025-06-26_17-16-54.parquet\")\n",
    "df_eval = pd.read_parquet(f\"../data/eval_data_scaled_2025-06-26_17-16-54.parquet\")\n",
    "#df_noisy_data = pd.read_parquet(f\"../data/noisy_data\")"
   ]
  },
  {
   "cell_type": "code",
   "execution_count": 4,
   "id": "ee8dfa80-ebe5-4d2e-bd1f-189786832974",
   "metadata": {},
   "outputs": [],
   "source": [
    "FEATURES = [col, 'month', 'day_of_month', 'day_of_week', 'hour', 'minute']\n",
    "TIMESTEPS = 24"
   ]
  },
  {
   "cell_type": "code",
   "execution_count": 5,
   "id": "756d6b90-fd72-402d-b857-c085af4e9920",
   "metadata": {},
   "outputs": [],
   "source": [
    "# df_train=df_train[['gridID', col]]\n",
    "# df_test=df_test[['gridID', col]]\n",
    "# df_eval=df_eval[['gridID', col]]"
   ]
  },
  {
   "cell_type": "code",
   "execution_count": 6,
   "id": "b8974c27-6026-47b4-8900-91c2f0f95e3c",
   "metadata": {},
   "outputs": [
    {
     "data": {
      "text/plain": [
       "<Axes: xlabel='startTime'>"
      ]
     },
     "execution_count": 6,
     "metadata": {},
     "output_type": "execute_result"
    },
    {
     "data": {
      "image/png": "[encoded data removed]",
      "text/plain": [
       "<Figure size 640x480 with 1 Axes>"
      ]
     },
     "metadata": {},
     "output_type": "display_data"
    }
   ],
   "source": [
    "df_test[[col]].plot()"
   ]
  },
  {
   "cell_type": "code",
   "execution_count": 175,
   "id": "cfc42cd2-e789-4323-841a-8c036563e7ed",
   "metadata": {},
   "outputs": [],
   "source": [
    "def add_gaussian_noise(series, mean=0, std=2):\n",
    "    noise = np.random.randn(len(series)) * std + mean\n",
    "    return series + noise\n",
    "\n",
    "def split_signal(signal, num_of_splits):\n",
    "    return np.concatenate(np.array_split(signal, num_of_splits))\n",
    "\n",
    "def find_valid_splits(array_length):\n",
    "    return [i for i in range(1, array_length + 1) if array_length % i == 0]\n",
    "\n",
    "\n",
    "def plot_df(df, col, status=True):\n",
    "    for grid in df['gridID'].unique():\n",
    "        df_plt= df[df['gridID']==grid].drop(columns='gridID')\n",
    "        plt.plot(df_plt.index, df_plt[col], label=f'{col} usage')\n",
    "        if(status is True):\n",
    "            colors = df_plt['status'].apply(lambda x: 'red' if x == 'Abnormal' else 'blue')\n",
    "            plt.scatter(\n",
    "            df_plt[df_plt['status'] == 'Abnormal'].index,\n",
    "            df_plt[df_plt['status'] == 'Abnormal'][col],\n",
    "            c='red',\n",
    "            label='Abnormal')\n",
    "        plt.xticks(rotation=45)\n",
    "        plt.title(f\"Grid: {grid}\")\n",
    "        plt.legend()\n",
    "        plt.tight_layout()\n",
    "        plt.show()\n",
    "\n",
    "\n",
    "# ===========================\n",
    "# Monitor wrapper function\n",
    "# ===========================\n",
    "def run_with_memory_and_time(func, *args, **kwargs):\n",
    "    start_time = time.time()\n",
    "    mem_usage, result = memory_usage(\n",
    "        (func, args, kwargs), retval=True, max_usage=True\n",
    "    )\n",
    "    duration = time.time() - start_time\n",
    "    return result, duration, mem_usage  # returns (function result, time in seconds, peak memory in MB)\n",
    "    \n",
    "# def fit_sarima(df, col, freq='10min'):\n",
    "#     # Step 2: Fit SARIMA to the aggregated series\n",
    "#     results = {}\n",
    "    \n",
    "#     for grid_id, group in df.groupby('gridID'):\n",
    "    \n",
    "#         print('Processing')\n",
    "#         # Ensure proper time sorting\n",
    "#         group = group.sort_index()\n",
    "#         # group = group[col].asfreq(freq)\n",
    "#         group.index.freq = freq\n",
    "        \n",
    "#         # Set Time as index (if not already)\n",
    "#         # group = group.set_index('Time')\n",
    "    \n",
    "#         # Choose the target column\n",
    "#         y = group[col]  # or any other variable\n",
    "    \n",
    "#         # Fit SARIMAX (simple example — adjust order/seasonal_order per your data)\n",
    "#         try:\n",
    "#             model = SARIMAX(\n",
    "#                 y,\n",
    "#                 order=order,              # ARIMA(p,d,q)\n",
    "#                 seasonal_order=seasonal_order, # SARIMA(P,D,Q,s), s=seasonal period\n",
    "#                 enforce_stationarity=False,\n",
    "#                 enforce_invertibility=False\n",
    "#             )\n",
    "#             model_fit = model.fit(disp=False, maxiter=50)\n",
    "#             results[grid_id] = model_fit\n",
    "#             print(f\"Fitted model for grid {grid_id}\")\n",
    "#         except Exception as e:\n",
    "#             print(f\"Error for grid {grid_id}: {e}\")\n",
    "#     return(results)\n",
    "\n",
    "\n",
    "\n",
    "def fit_sarima(df, col, freq='10min', order=(1, 0, 0), seasonal_order=(1, 0, 0, 144)):\n",
    "    results = {}\n",
    "    resource_logs = []\n",
    "\n",
    "    for grid_id, group in df.groupby('gridID'):\n",
    "        print(f\"Processing grid {grid_id}...\")\n",
    "        group = group.sort_index()\n",
    "        group.index.freq = freq  # Set frequency explicitly\n",
    "\n",
    "        y = group[col]\n",
    "\n",
    "        def fit_model():\n",
    "            model = SARIMAX(\n",
    "                y,\n",
    "                order=order,\n",
    "                seasonal_order=seasonal_order,\n",
    "                enforce_stationarity=False,\n",
    "                enforce_invertibility=False\n",
    "            )\n",
    "            return model.fit(disp=False, maxiter=50)\n",
    "\n",
    "        try:\n",
    "            model_fit, train_time, peak_mem = run_with_memory_and_time(fit_model)\n",
    "            results[grid_id] = model_fit\n",
    "\n",
    "            print(f\"✔ Grid {grid_id} trained in {train_time:.2f}s | Peak Mem: {peak_mem:.2f} MB\")\n",
    "\n",
    "            resource_logs.append({\n",
    "                'gridID': grid_id,\n",
    "                'column': col,\n",
    "                'training_time_sec': round(train_time, 2),\n",
    "                'peak_memory_MB': round(peak_mem, 2),\n",
    "                'timestamp': datetime.datetime.now().strftime(\"%Y-%m-%d %H:%M:%S\")\n",
    "            })\n",
    "\n",
    "        except Exception as e:\n",
    "            print(f\"❌ Grid {grid_id} failed: {e}\")\n",
    "            continue\n",
    "\n",
    "    # Create stats DataFrame\n",
    "    df_stats = pd.DataFrame(resource_logs)\n",
    "\n",
    "    print(df_stats)\n",
    "\n",
    "    return results, df_stats\n",
    "\n",
    "\n",
    "\n",
    "\n",
    "def predict_sarima_per_grid(df, col, model_list, freq='10min', forecast=True):\n",
    "    predicted_all = []\n",
    "    resource_logs = []\n",
    "\n",
    "    for grid in df['gridID'].unique():\n",
    "        group = df[df['gridID'] == grid].sort_index()\n",
    "        ts_test = group[col].asfreq(freq)\n",
    "        \n",
    "        # Skip empty time series\n",
    "        if ts_test.empty:\n",
    "            print(f\"Grid {grid} skipped: no data available.\")\n",
    "            continue\n",
    "\n",
    "        # Skip if no model\n",
    "        if grid not in model_list or model_list[grid] is None:\n",
    "            print(f\"Grid {grid} skipped: no model available.\")\n",
    "            continue\n",
    "\n",
    "        # print(f'Grid id: {grid}')\n",
    "        model = model_list[grid]\n",
    "\n",
    "        def run_forecast():\n",
    "            steps = len(ts_test)\n",
    "            return model.forecast(steps=steps)\n",
    "\n",
    "        def run_prediction():\n",
    "            return model.predict(start=ts_test.index[0], end=ts_test.index[-1])\n",
    "\n",
    "        try:\n",
    "            if(bool(forecast)):\n",
    "                predicted, pred_time, peak_mem = run_with_memory_and_time(run_prediction)\n",
    "                y_true = ts_test\n",
    "                y_pred = predicted\n",
    "                \n",
    "            else:\n",
    "                predicted, pred_time, peak_mem = run_with_memory_and_time(run_prediction)\n",
    "                # Align prediction with actuals\n",
    "                y_true, y_pred = ts_test.align(predicted, join='inner')\n",
    "                \n",
    "            residuals = y_true - y_pred\n",
    "            \n",
    "            # Compute 95th percentile threshold\n",
    "            threshold = np.mean(np.abs(residuals)) + 2.5 * np.std(np.abs(residuals))\n",
    "            print(f'Threshold: {threshold}')\n",
    "\n",
    "            df_pred = pd.DataFrame({\n",
    "                'timestamp': y_true.index,\n",
    "                'gridID': grid,\n",
    "                'threshold': threshold,\n",
    "                'actual': y_true.values,\n",
    "                'predicted': y_pred.values,\n",
    "                'residual': residuals.values,\n",
    "                'status': np.where(np.abs(residuals) > threshold, 'Abnormal', 'Normal')\n",
    "            })\n",
    "\n",
    "            predicted_all.append(df_pred)\n",
    "\n",
    "            resource_logs.append({\n",
    "                'gridID': grid,\n",
    "                'column': col,\n",
    "                'prediction_time_sec': round(pred_time, 2),\n",
    "                'peak_memory_MB': round(peak_mem, 2),\n",
    "                'timestamp': datetime.datetime.now().strftime(\"%Y-%m-%d %H:%M:%S\"),\n",
    "                'anomalies_detected': (df_pred['status'] == 'Abnormal').sum()\n",
    "            })\n",
    "\n",
    "            print(f\"Grid {grid}: {df_pred['status'].value_counts().to_dict()} | Time: {pred_time:.2f}s | Mem: {peak_mem:.2f} MB\")\n",
    "\n",
    "        except Exception as e:\n",
    "            print(f\"Grid {grid} failed: {e}\")\n",
    "\n",
    "    # Handle case where no predictions succeeded\n",
    "    if predicted_all:\n",
    "        return pd.concat(predicted_all, ignore_index=True), pd.DataFrame(resource_logs)\n",
    "    else:\n",
    "        print(\"No valid predictions were made.\")\n",
    "        return pd.DataFrame(), pd.DataFrame(resource_logs)\n",
    "\n",
    "\n",
    "\n",
    "# def predict_sarima(df, col, model, freq='10min'):\n",
    "#     predicted_all = []\n",
    "    \n",
    "#     for grid in df['gridID'].unique():\n",
    "#         group = df[df['gridID'] == grid].sort_index()\n",
    "#         ts_test = group[col].asfreq(freq)\n",
    "    \n",
    "#         try:\n",
    "#             # Predict using pre-trained SARIMA model\n",
    "#             predicted = model.predict(start=ts_test.index[0], end=ts_test.index[-1])\n",
    "    \n",
    "#             # Align prediction with actuals\n",
    "#             y_true, y_pred = ts_test.align(predicted, join='inner')\n",
    "#             residuals = y_true - y_pred\n",
    "    \n",
    "#             # Compute threshold from residuals\n",
    "#             threshold = np.percentile(np.abs(residuals), 95)\n",
    "    \n",
    "#             # Create full DataFrame for this grid\n",
    "#             df_pred = pd.DataFrame({\n",
    "#                 'timestamp': y_true.index,\n",
    "#                 'gridID': grid,\n",
    "#                 'actual': y_true.values,\n",
    "#                 'predicted': y_pred.values,\n",
    "#                 'residual': residuals.values,\n",
    "#             })\n",
    "    \n",
    "#             # Add is_anomaly column\n",
    "#             # df_pred['status'] = np.abs(df_pred['residual']) > threshold\n",
    "#             df_pred['status'] = np.where(np.abs(df_pred['residual']) > threshold, 'Abnormal','Normal')\n",
    "\n",
    "    \n",
    "#             predicted_all.append(df_pred)\n",
    "    \n",
    "#             print(f\"Grid {grid}: {(df_pred['status'] == 'Abnormal').sum()} anomalies detected.\")\n",
    "    \n",
    "#         except Exception as e:\n",
    "#             print(f\"Grid {grid} failed: {e}\")\n",
    "#     return(predicted_all)\n",
    "\n",
    "\n",
    "def add_noise_to_df(df, n_outliers=500, alpha_dev = 0.2, column_index=list(range(1, 6))):\n",
    "    # Define the noisy region\n",
    "    pos = int(np.round(len(find_valid_splits(len(df))) / 1.5))\n",
    "    n_split = find_valid_splits(len(df))[pos]\n",
    "    \n",
    "    signal = split_signal(df.iloc[:, 1:6], n_split)  # columns 1–5 (assumes 0-based indexing)\n",
    "    \n",
    "    down = random.randint(0, signal.shape[0] - n_outliers)\n",
    "    up = down + n_outliers\n",
    "    print(f\"Lower boundary {down} - Upper boundary {up}\")\n",
    "    \n",
    "    # Apply Gaussian noise to each column (1 to 5)\n",
    "\n",
    "    noisy_cols = []\n",
    "    \n",
    "    for col in df.columns[column_index]:\n",
    "        orig_mean = df[col].mean()\n",
    "        orig_std = df[col].std()\n",
    "    \n",
    "        noise_mean = orig_mean * (1 + alpha_dev)\n",
    "        noise_std = orig_std * (1 + alpha_dev)\n",
    "    \n",
    "        # Apply noise only to selected rows\n",
    "        signal_col = split_signal(df[col], n_split)\n",
    "        noisy_part = add_gaussian_noise(signal_col[down:up], mean=noise_mean, std=noise_std)\n",
    "    \n",
    "        noisy_part = pd.Series(noisy_part, index=range(down, up))  # optional: specify index\n",
    "    \n",
    "        # Combine back into full series\n",
    "        noisy_signal = pd.concat([\n",
    "            df[col].iloc[:down],\n",
    "            noisy_part,\n",
    "            df[col].iloc[up:]\n",
    "        ], ignore_index=True)\n",
    "    \n",
    "    \n",
    "        noisy_cols.append(noisy_signal)\n",
    "    \n",
    "    # Construct new noisy DataFrame for columns 1–5\n",
    "    noisy_df_part = pd.concat(noisy_cols, axis=1)\n",
    "    noisy_df_part.columns = df.columns[column_index]\n",
    "    \n",
    "    # Combine with original DataFrame\n",
    "    df_noisy = df.copy()\n",
    "    df_noisy.iloc[:, column_index] = noisy_df_part\n",
    "    \n",
    "    ## Tracking the noise\n",
    "    df_noisy['status'] = \"Normal\"\n",
    "    df_noisy.iloc[down:up, df_noisy.columns.get_loc('status')] = \"Abnormal\"\n",
    "    return(df_noisy, up, down)"
   ]
  },
  {
   "cell_type": "code",
   "execution_count": 176,
   "id": "f6559848-71cc-4569-887f-e289a82ae384",
   "metadata": {},
   "outputs": [],
   "source": [
    "# df_noisy = add_noise_to_df(df=df_test, n_outliers=1000, alpha_dev=0.2, column_index=list(range(1, 6)))\n",
    "\n",
    "# df_noisy"
   ]
  },
  {
   "cell_type": "code",
   "execution_count": 177,
   "id": "3854f749-62d6-4327-aebb-f9cf511272db",
   "metadata": {},
   "outputs": [
    {
     "data": {
      "text/html": [
       "<div>\n",
       "<style scoped>\n",
       "    .dataframe tbody tr th:only-of-type {\n",
       "        vertical-align: middle;\n",
       "    }\n",
       "\n",
       "    .dataframe tbody tr th {\n",
       "        vertical-align: top;\n",
       "    }\n",
       "\n",
       "    .dataframe thead th {\n",
       "        text-align: right;\n",
       "    }\n",
       "</style>\n",
       "<table border=\"1\" class=\"dataframe\">\n",
       "  <thead>\n",
       "    <tr style=\"text-align: right;\">\n",
       "      <th></th>\n",
       "      <th>gridID</th>\n",
       "      <th>CallIn</th>\n",
       "    </tr>\n",
       "    <tr>\n",
       "      <th>startTime</th>\n",
       "      <th></th>\n",
       "      <th></th>\n",
       "    </tr>\n",
       "  </thead>\n",
       "  <tbody>\n",
       "    <tr>\n",
       "      <th>2013-11-01 00:00:00</th>\n",
       "      <td>216</td>\n",
       "      <td>-0.386095</td>\n",
       "    </tr>\n",
       "    <tr>\n",
       "      <th>2013-11-01 00:00:00</th>\n",
       "      <td>1009</td>\n",
       "      <td>-0.393449</td>\n",
       "    </tr>\n",
       "    <tr>\n",
       "      <th>2013-11-01 00:10:00</th>\n",
       "      <td>1009</td>\n",
       "      <td>-0.386273</td>\n",
       "    </tr>\n",
       "    <tr>\n",
       "      <th>2013-11-01 00:10:00</th>\n",
       "      <td>216</td>\n",
       "      <td>-0.386095</td>\n",
       "    </tr>\n",
       "    <tr>\n",
       "      <th>2013-11-01 00:20:00</th>\n",
       "      <td>216</td>\n",
       "      <td>-0.386095</td>\n",
       "    </tr>\n",
       "    <tr>\n",
       "      <th>...</th>\n",
       "      <td>...</td>\n",
       "      <td>...</td>\n",
       "    </tr>\n",
       "    <tr>\n",
       "      <th>2013-11-16 23:30:00</th>\n",
       "      <td>216</td>\n",
       "      <td>-0.386095</td>\n",
       "    </tr>\n",
       "    <tr>\n",
       "      <th>2013-11-16 23:40:00</th>\n",
       "      <td>1009</td>\n",
       "      <td>-0.389440</td>\n",
       "    </tr>\n",
       "    <tr>\n",
       "      <th>2013-11-16 23:40:00</th>\n",
       "      <td>216</td>\n",
       "      <td>-0.389965</td>\n",
       "    </tr>\n",
       "    <tr>\n",
       "      <th>2013-11-16 23:50:00</th>\n",
       "      <td>1009</td>\n",
       "      <td>-0.400728</td>\n",
       "    </tr>\n",
       "    <tr>\n",
       "      <th>2013-11-16 23:50:00</th>\n",
       "      <td>216</td>\n",
       "      <td>-0.397706</td>\n",
       "    </tr>\n",
       "  </tbody>\n",
       "</table>\n",
       "<p>4608 rows × 2 columns</p>\n",
       "</div>"
      ],
      "text/plain": [
       "                     gridID    CallIn\n",
       "startTime                            \n",
       "2013-11-01 00:00:00     216 -0.386095\n",
       "2013-11-01 00:00:00    1009 -0.393449\n",
       "2013-11-01 00:10:00    1009 -0.386273\n",
       "2013-11-01 00:10:00     216 -0.386095\n",
       "2013-11-01 00:20:00     216 -0.386095\n",
       "...                     ...       ...\n",
       "2013-11-16 23:30:00     216 -0.386095\n",
       "2013-11-16 23:40:00    1009 -0.389440\n",
       "2013-11-16 23:40:00     216 -0.389965\n",
       "2013-11-16 23:50:00    1009 -0.400728\n",
       "2013-11-16 23:50:00     216 -0.397706\n",
       "\n",
       "[4608 rows x 2 columns]"
      ]
     },
     "execution_count": 177,
     "metadata": {},
     "output_type": "execute_result"
    }
   ],
   "source": [
    "df=df_train[['gridID', col]]\n",
    "\n",
    "top_grid = df['gridID'].unique()[0:n_grids]\n",
    "\n",
    "df= df[df['gridID'].isin(top_grid)]\n",
    "\n",
    "df"
   ]
  },
  {
   "cell_type": "code",
   "execution_count": 178,
   "id": "2efbaa74-104d-46d0-801f-727310849c78",
   "metadata": {},
   "outputs": [],
   "source": [
    "# plot_df(df, col=col, status=False)"
   ]
  },
  {
   "cell_type": "code",
   "execution_count": 179,
   "id": "d0ac09ed-4301-4597-9045-83431810955f",
   "metadata": {},
   "outputs": [],
   "source": [
    "# plot_df(df_noisy, col=col)"
   ]
  },
  {
   "cell_type": "code",
   "execution_count": 225,
   "id": "e1df4770-6c1d-48eb-a4d3-4ea78e95520f",
   "metadata": {},
   "outputs": [
    {
     "data": {
      "text/plain": [
       "<Figure size 1200x400 with 0 Axes>"
      ]
     },
     "metadata": {},
     "output_type": "display_data"
    },
    {
     "data": {
      "image/png": "[encoded data removed]",
      "text/plain": [
       "<Figure size 640x480 with 1 Axes>"
      ]
     },
     "metadata": {},
     "output_type": "display_data"
    },
    {
     "data": {
      "image/png": "[encoded data removed]",
      "text/plain": [
       "<Figure size 640x480 with 1 Axes>"
      ]
     },
     "metadata": {},
     "output_type": "display_data"
    },
    {
     "data": {
      "text/plain": [
       "<Figure size 1200x400 with 0 Axes>"
      ]
     },
     "metadata": {},
     "output_type": "display_data"
    },
    {
     "data": {
      "image/png": "[encoded data removed]",
      "text/plain": [
       "<Figure size 640x480 with 1 Axes>"
      ]
     },
     "metadata": {},
     "output_type": "display_data"
    },
    {
     "data": {
      "image/png": "[encoded data removed]",
      "text/plain": [
       "<Figure size 640x480 with 1 Axes>"
      ]
     },
     "metadata": {},
     "output_type": "display_data"
    }
   ],
   "source": [
    "from statsmodels.graphics.tsaplots import plot_acf, plot_pacf\n",
    "for grid in df['gridID'].unique():\n",
    "    plt.figure(figsize=(12, 4))\n",
    "    plot_acf(df[col][df['gridID']==grid], lags=144*7)     # Shows autocorrelation up to ~2 days\n",
    "    plot_pacf(df[col][df['gridID']==grid], lags=144*7)\n",
    "    plt.show()"
   ]
  },
  {
   "cell_type": "code",
   "execution_count": 229,
   "id": "7ae42b08-b431-4198-83e0-50dc78b52aed",
   "metadata": {},
   "outputs": [],
   "source": [
    "order = (0, 0, 1)              # ARIMA part\n",
    "seasonal_order = (0, 0, 1, 144)  # Seasonal part (daily seasonality for 10-min interval data)"
   ]
  },
  {
   "cell_type": "code",
   "execution_count": null,
   "id": "da15ab66-706d-4aec-b4e3-decd7e8b9f85",
   "metadata": {},
   "outputs": [
    {
     "name": "stdout",
     "output_type": "stream",
     "text": [
      "Processing grid 216...\n",
      "✔ Grid 216 trained in 103.16s | Peak Mem: 17902.91 MB\n",
      "Processing grid 1009...\n"
     ]
    }
   ],
   "source": [
    "### Step 4: training mode\n",
    "results, df_stats = fit_sarima(df=df, col=col, freq='10min', order=order, seasonal_order=seasonal_order)"
   ]
  },
  {
   "cell_type": "code",
   "execution_count": 224,
   "id": "a12ccded-d6e9-475e-b86b-8f22cad27792",
   "metadata": {},
   "outputs": [
    {
     "data": {
      "text/plain": [
       "-12482.030434615188"
      ]
     },
     "execution_count": 224,
     "metadata": {},
     "output_type": "execute_result"
    }
   ],
   "source": [
    "results[1009].aic"
   ]
  },
  {
   "cell_type": "code",
   "execution_count": 228,
   "id": "328e0012-1532-4213-b3a9-d55790699ee1",
   "metadata": {},
   "outputs": [
    {
     "data": {
      "text/plain": [
       "40743"
      ]
     },
     "execution_count": 228,
     "metadata": {},
     "output_type": "execute_result"
    }
   ],
   "source": [
    "gc.collect()"
   ]
  },
  {
   "cell_type": "code",
   "execution_count": 211,
   "id": "1705bd20-46ef-46aa-a773-bfe81d868a3e",
   "metadata": {},
   "outputs": [],
   "source": [
    "# Save to CSV\n",
    "timestamp1 = datetime.datetime.now().strftime(\"%Y-%m-%d_%H-%M-%S\")\n",
    "\n",
    "output_path = f\"../results/train_stats_sarima_{timestamp1}_{col}.csv\"\n",
    "df_stats.to_csv(output_path, index=False)"
   ]
  },
  {
   "cell_type": "code",
   "execution_count": 212,
   "id": "65f3460e-c6a4-4a7e-b3dc-214ec313daa0",
   "metadata": {},
   "outputs": [
    {
     "name": "stdout",
     "output_type": "stream",
     "text": [
      "Lower boundary 2478 - Upper boundary 2578\n",
      "Lower boundary 1770 - Upper boundary 1970\n"
     ]
    },
    {
     "name": "stderr",
     "output_type": "stream",
     "text": [
      "/home/mfondoum/anaconda3/lib/python3.12/site-packages/numpy/core/fromnumeric.py:59: FutureWarning: 'DataFrame.swapaxes' is deprecated and will be removed in a future version. Please use 'DataFrame.transpose' instead.\n",
      "  return bound(*args, **kwds)\n",
      "/home/mfondoum/anaconda3/lib/python3.12/site-packages/numpy/core/fromnumeric.py:59: FutureWarning: 'Series.swapaxes' is deprecated and will be removed in a future version. Please use 'Series.transpose' instead.\n",
      "  return bound(*args, **kwds)\n",
      "/home/mfondoum/anaconda3/lib/python3.12/site-packages/numpy/core/fromnumeric.py:59: FutureWarning: 'DataFrame.swapaxes' is deprecated and will be removed in a future version. Please use 'DataFrame.transpose' instead.\n",
      "  return bound(*args, **kwds)\n",
      "/home/mfondoum/anaconda3/lib/python3.12/site-packages/numpy/core/fromnumeric.py:59: FutureWarning: 'Series.swapaxes' is deprecated and will be removed in a future version. Please use 'Series.transpose' instead.\n",
      "  return bound(*args, **kwds)\n"
     ]
    }
   ],
   "source": [
    "df_noisy_1, up1, down1 = add_noise_to_df(df=df, n_outliers=100, alpha_dev=0.2, column_index=list(range(1, 2)))\n",
    "df_noisy_2, up2, down2 = add_noise_to_df(df=df, n_outliers=200, alpha_dev=1, column_index=list(range(1, 2)))"
   ]
  },
  {
   "cell_type": "code",
   "execution_count": 213,
   "id": "ec78f51c-35ec-451b-a151-ffa971171b3e",
   "metadata": {},
   "outputs": [
    {
     "name": "stderr",
     "output_type": "stream",
     "text": [
      "/tmp/ipykernel_1224842/4064927882.py:2: FutureWarning: ChainedAssignmentError: behaviour will change in pandas 3.0!\n",
      "You are setting values through chained assignment. Currently this works in certain cases, but when using Copy-on-Write (which will become the default behaviour in pandas 3.0) this will never work to update the original DataFrame or Series, because the intermediate object on which we are setting values will behave as a copy.\n",
      "A typical example is when you are setting values in a column of a DataFrame, like:\n",
      "\n",
      "df[\"col\"][row_indexer] = value\n",
      "\n",
      "Use `df.loc[row_indexer, \"col\"] = values` instead, to perform the assignment in a single step and ensure this keeps updating the original `df`.\n",
      "\n",
      "See the caveats in the documentation: https://pandas.pydata.org/pandas-docs/stable/user_guide/indexing.html#returning-a-view-versus-a-copy\n",
      "\n",
      "  df_noisy[col][df_noisy['gridID']==216]=df_noisy_2[col][df_noisy_2['gridID']==216]\n",
      "/tmp/ipykernel_1224842/4064927882.py:2: SettingWithCopyWarning: \n",
      "A value is trying to be set on a copy of a slice from a DataFrame\n",
      "\n",
      "See the caveats in the documentation: https://pandas.pydata.org/pandas-docs/stable/user_guide/indexing.html#returning-a-view-versus-a-copy\n",
      "  df_noisy[col][df_noisy['gridID']==216]=df_noisy_2[col][df_noisy_2['gridID']==216]\n"
     ]
    }
   ],
   "source": [
    "df_noisy = df_noisy_1\n",
    "df_noisy[col][df_noisy['gridID']==216]=df_noisy_2[col][df_noisy_2['gridID']==216]"
   ]
  },
  {
   "cell_type": "code",
   "execution_count": 214,
   "id": "277b5c0f-39cf-4942-8cf4-712c5da9ab70",
   "metadata": {},
   "outputs": [
    {
     "data": {
      "image/png": "[encoded data removed]",
      "text/plain": [
       "<Figure size 640x480 with 1 Axes>"
      ]
     },
     "metadata": {},
     "output_type": "display_data"
    },
    {
     "data": {
      "image/png": "[encoded data removed]",
      "text/plain": [
       "<Figure size 640x480 with 1 Axes>"
      ]
     },
     "metadata": {},
     "output_type": "display_data"
    }
   ],
   "source": [
    "for grid in df['gridID'].unique():\n",
    "    plt.plot(df[col][df['gridID']==grid])\n",
    "    plt.show()"
   ]
  },
  {
   "cell_type": "code",
   "execution_count": 215,
   "id": "05ccfee8-0fe0-4156-8bc4-345f36c93d24",
   "metadata": {},
   "outputs": [],
   "source": [
    "grids_eval_ids = df['gridID'].unique()\n",
    "\n",
    "grids_eval_ids\n",
    "\n",
    "# top_grid_test = df_noisy['gridID'].unique()[0:2]\n",
    "\n",
    "df_test_mod = df_noisy[['gridID', col]][df_noisy['gridID'].isin(top_grid)]"
   ]
  },
  {
   "cell_type": "code",
   "execution_count": 216,
   "id": "79c67fd5-749c-44d6-95b7-c84ba12e683f",
   "metadata": {},
   "outputs": [
    {
     "data": {
      "image/png": "[encoded data removed]",
      "text/plain": [
       "<Figure size 640x480 with 1 Axes>"
      ]
     },
     "metadata": {},
     "output_type": "display_data"
    },
    {
     "data": {
      "image/png": "[encoded data removed]",
      "text/plain": [
       "<Figure size 640x480 with 1 Axes>"
      ]
     },
     "metadata": {},
     "output_type": "display_data"
    }
   ],
   "source": [
    "for grid in df_test_mod['gridID'].unique():\n",
    "    plt.plot(df_test_mod[col][df_test_mod['gridID']==grid])\n",
    "    plt.show()"
   ]
  },
  {
   "cell_type": "code",
   "execution_count": 217,
   "id": "5d38b552-b119-453f-a871-8f2c600f494d",
   "metadata": {},
   "outputs": [
    {
     "name": "stdout",
     "output_type": "stream",
     "text": [
      "Threshold: 0.43460540911543466\n",
      "Grid 216: {'Normal': 2204, 'Abnormal': 100} | Time: 0.75s | Mem: 12186.80 MB\n",
      "Threshold: 0.1847054826711806\n",
      "Grid 1009: {'Normal': 2253, 'Abnormal': 51} | Time: 0.55s | Mem: 12186.80 MB\n"
     ]
    }
   ],
   "source": [
    "# Prediction\n",
    "predicted_all, df_stats = predict_sarima_per_grid(df=df_test_mod[['gridID', col]], col=col, model_list=results, freq='10min', forecast=False)"
   ]
  },
  {
   "cell_type": "code",
   "execution_count": 218,
   "id": "cc082a59-e79a-4436-b9af-af0ee98a96cb",
   "metadata": {},
   "outputs": [
    {
     "data": {
      "text/html": [
       "<div>\n",
       "<style scoped>\n",
       "    .dataframe tbody tr th:only-of-type {\n",
       "        vertical-align: middle;\n",
       "    }\n",
       "\n",
       "    .dataframe tbody tr th {\n",
       "        vertical-align: top;\n",
       "    }\n",
       "\n",
       "    .dataframe thead th {\n",
       "        text-align: right;\n",
       "    }\n",
       "</style>\n",
       "<table border=\"1\" class=\"dataframe\">\n",
       "  <thead>\n",
       "    <tr style=\"text-align: right;\">\n",
       "      <th></th>\n",
       "      <th>gridID</th>\n",
       "      <th>column</th>\n",
       "      <th>prediction_time_sec</th>\n",
       "      <th>peak_memory_MB</th>\n",
       "      <th>timestamp</th>\n",
       "      <th>anomalies_detected</th>\n",
       "    </tr>\n",
       "  </thead>\n",
       "  <tbody>\n",
       "    <tr>\n",
       "      <th>0</th>\n",
       "      <td>216</td>\n",
       "      <td>CallIn</td>\n",
       "      <td>0.75</td>\n",
       "      <td>12186.8</td>\n",
       "      <td>2025-06-28 13:46:53</td>\n",
       "      <td>100</td>\n",
       "    </tr>\n",
       "    <tr>\n",
       "      <th>1</th>\n",
       "      <td>1009</td>\n",
       "      <td>CallIn</td>\n",
       "      <td>0.55</td>\n",
       "      <td>12186.8</td>\n",
       "      <td>2025-06-28 13:46:53</td>\n",
       "      <td>51</td>\n",
       "    </tr>\n",
       "  </tbody>\n",
       "</table>\n",
       "</div>"
      ],
      "text/plain": [
       "   gridID  column  prediction_time_sec  peak_memory_MB            timestamp  \\\n",
       "0     216  CallIn                 0.75         12186.8  2025-06-28 13:46:53   \n",
       "1    1009  CallIn                 0.55         12186.8  2025-06-28 13:46:53   \n",
       "\n",
       "   anomalies_detected  \n",
       "0                 100  \n",
       "1                  51  "
      ]
     },
     "execution_count": 218,
     "metadata": {},
     "output_type": "execute_result"
    }
   ],
   "source": [
    "df_stats"
   ]
  },
  {
   "cell_type": "code",
   "execution_count": 203,
   "id": "ba4fb39f-46c5-4847-9847-c62d7c5c22a7",
   "metadata": {},
   "outputs": [],
   "source": [
    "# Save to CSV\n",
    "timestamp1 = datetime.datetime.now().strftime(\"%Y-%m-%d_%H-%M-%S\")\n",
    "output_path = f\"../results/test_stats_sarima_{timestamp1}_{col}.csv\"\n",
    "df_stats.to_csv(output_path, index=False)"
   ]
  },
  {
   "cell_type": "code",
   "execution_count": 204,
   "id": "fd8cd171-3dd9-423e-b6ec-a8997ec4212a",
   "metadata": {},
   "outputs": [
    {
     "name": "stderr",
     "output_type": "stream",
     "text": [
      "/tmp/ipykernel_1224842/316917723.py:2: FutureWarning: ChainedAssignmentError: behaviour will change in pandas 3.0!\n",
      "You are setting values through chained assignment. Currently this works in certain cases, but when using Copy-on-Write (which will become the default behaviour in pandas 3.0) this will never work to update the original DataFrame or Series, because the intermediate object on which we are setting values will behave as a copy.\n",
      "A typical example is when you are setting values in a column of a DataFrame, like:\n",
      "\n",
      "df[\"col\"][row_indexer] = value\n",
      "\n",
      "Use `df.loc[row_indexer, \"col\"] = values` instead, to perform the assignment in a single step and ensure this keeps updating the original `df`.\n",
      "\n",
      "See the caveats in the documentation: https://pandas.pydata.org/pandas-docs/stable/user_guide/indexing.html#returning-a-view-versus-a-copy\n",
      "\n",
      "  predicted_all['actual_status'].iloc[up1:down1]='Abnormal'\n",
      "/tmp/ipykernel_1224842/316917723.py:2: SettingWithCopyWarning: \n",
      "A value is trying to be set on a copy of a slice from a DataFrame\n",
      "\n",
      "See the caveats in the documentation: https://pandas.pydata.org/pandas-docs/stable/user_guide/indexing.html#returning-a-view-versus-a-copy\n",
      "  predicted_all['actual_status'].iloc[up1:down1]='Abnormal'\n",
      "/tmp/ipykernel_1224842/316917723.py:3: FutureWarning: ChainedAssignmentError: behaviour will change in pandas 3.0!\n",
      "You are setting values through chained assignment. Currently this works in certain cases, but when using Copy-on-Write (which will become the default behaviour in pandas 3.0) this will never work to update the original DataFrame or Series, because the intermediate object on which we are setting values will behave as a copy.\n",
      "A typical example is when you are setting values in a column of a DataFrame, like:\n",
      "\n",
      "df[\"col\"][row_indexer] = value\n",
      "\n",
      "Use `df.loc[row_indexer, \"col\"] = values` instead, to perform the assignment in a single step and ensure this keeps updating the original `df`.\n",
      "\n",
      "See the caveats in the documentation: https://pandas.pydata.org/pandas-docs/stable/user_guide/indexing.html#returning-a-view-versus-a-copy\n",
      "\n",
      "  predicted_all['actual_status'].iloc[up2:down2]='Abnormal'\n",
      "/tmp/ipykernel_1224842/316917723.py:3: SettingWithCopyWarning: \n",
      "A value is trying to be set on a copy of a slice from a DataFrame\n",
      "\n",
      "See the caveats in the documentation: https://pandas.pydata.org/pandas-docs/stable/user_guide/indexing.html#returning-a-view-versus-a-copy\n",
      "  predicted_all['actual_status'].iloc[up2:down2]='Abnormal'\n"
     ]
    }
   ],
   "source": [
    "predicted_all['actual_status'] = \"Normal\"\n",
    "predicted_all['actual_status'].iloc[up1:down1]='Abnormal'\n",
    "predicted_all['actual_status'].iloc[up2:down2]='Abnormal'"
   ]
  },
  {
   "cell_type": "code",
   "execution_count": 205,
   "id": "e86a393c-aebe-4d64-bdbf-bf76475a5842",
   "metadata": {},
   "outputs": [],
   "source": [
    "# thresholds = predicted_all.groupby('gridID')['actual'].transform(lambda x: np.percentile(x, 95))\n",
    "\n",
    "# predicted_all['actual_status'] = np.where(predicted_all['actual'] > thresholds, 'Abnormal', 'Normal')"
   ]
  },
  {
   "cell_type": "code",
   "execution_count": 206,
   "id": "4c73980f-6587-4538-9fb4-16086d18417a",
   "metadata": {},
   "outputs": [
    {
     "data": {
      "text/html": [
       "<div>\n",
       "<style scoped>\n",
       "    .dataframe tbody tr th:only-of-type {\n",
       "        vertical-align: middle;\n",
       "    }\n",
       "\n",
       "    .dataframe tbody tr th {\n",
       "        vertical-align: top;\n",
       "    }\n",
       "\n",
       "    .dataframe thead th {\n",
       "        text-align: right;\n",
       "    }\n",
       "</style>\n",
       "<table border=\"1\" class=\"dataframe\">\n",
       "  <thead>\n",
       "    <tr style=\"text-align: right;\">\n",
       "      <th></th>\n",
       "      <th>timestamp</th>\n",
       "      <th>gridID</th>\n",
       "      <th>actual</th>\n",
       "      <th>predicted</th>\n",
       "      <th>residual</th>\n",
       "      <th>status</th>\n",
       "      <th>actual_status</th>\n",
       "    </tr>\n",
       "  </thead>\n",
       "  <tbody>\n",
       "    <tr>\n",
       "      <th>0</th>\n",
       "      <td>2013-11-01 00:00:00</td>\n",
       "      <td>216</td>\n",
       "      <td>-0.386095</td>\n",
       "      <td>0.000000</td>\n",
       "      <td>-0.386095</td>\n",
       "      <td>Normal</td>\n",
       "      <td>Normal</td>\n",
       "    </tr>\n",
       "    <tr>\n",
       "      <th>1</th>\n",
       "      <td>2013-11-01 00:10:00</td>\n",
       "      <td>216</td>\n",
       "      <td>-0.386095</td>\n",
       "      <td>-0.385008</td>\n",
       "      <td>-0.001087</td>\n",
       "      <td>Normal</td>\n",
       "      <td>Normal</td>\n",
       "    </tr>\n",
       "    <tr>\n",
       "      <th>2</th>\n",
       "      <td>2013-11-01 00:20:00</td>\n",
       "      <td>216</td>\n",
       "      <td>-0.386095</td>\n",
       "      <td>-0.385008</td>\n",
       "      <td>-0.001087</td>\n",
       "      <td>Normal</td>\n",
       "      <td>Normal</td>\n",
       "    </tr>\n",
       "    <tr>\n",
       "      <th>3</th>\n",
       "      <td>2013-11-01 00:30:00</td>\n",
       "      <td>216</td>\n",
       "      <td>-0.397706</td>\n",
       "      <td>-0.385008</td>\n",
       "      <td>-0.012698</td>\n",
       "      <td>Normal</td>\n",
       "      <td>Normal</td>\n",
       "    </tr>\n",
       "    <tr>\n",
       "      <th>4</th>\n",
       "      <td>2013-11-01 00:40:00</td>\n",
       "      <td>216</td>\n",
       "      <td>-0.389965</td>\n",
       "      <td>-0.396586</td>\n",
       "      <td>0.006621</td>\n",
       "      <td>Normal</td>\n",
       "      <td>Normal</td>\n",
       "    </tr>\n",
       "    <tr>\n",
       "      <th>...</th>\n",
       "      <td>...</td>\n",
       "      <td>...</td>\n",
       "      <td>...</td>\n",
       "      <td>...</td>\n",
       "      <td>...</td>\n",
       "      <td>...</td>\n",
       "      <td>...</td>\n",
       "    </tr>\n",
       "    <tr>\n",
       "      <th>4603</th>\n",
       "      <td>2013-11-16 23:10:00</td>\n",
       "      <td>1009</td>\n",
       "      <td>-0.390243</td>\n",
       "      <td>-0.389081</td>\n",
       "      <td>-0.001162</td>\n",
       "      <td>Normal</td>\n",
       "      <td>Normal</td>\n",
       "    </tr>\n",
       "    <tr>\n",
       "      <th>4604</th>\n",
       "      <td>2013-11-16 23:20:00</td>\n",
       "      <td>1009</td>\n",
       "      <td>-0.400202</td>\n",
       "      <td>-0.389708</td>\n",
       "      <td>-0.010494</td>\n",
       "      <td>Normal</td>\n",
       "      <td>Normal</td>\n",
       "    </tr>\n",
       "    <tr>\n",
       "      <th>4605</th>\n",
       "      <td>2013-11-16 23:30:00</td>\n",
       "      <td>1009</td>\n",
       "      <td>-0.383850</td>\n",
       "      <td>-0.400108</td>\n",
       "      <td>0.016259</td>\n",
       "      <td>Normal</td>\n",
       "      <td>Normal</td>\n",
       "    </tr>\n",
       "    <tr>\n",
       "      <th>4606</th>\n",
       "      <td>2013-11-16 23:40:00</td>\n",
       "      <td>1009</td>\n",
       "      <td>-0.389440</td>\n",
       "      <td>-0.383424</td>\n",
       "      <td>-0.006016</td>\n",
       "      <td>Normal</td>\n",
       "      <td>Normal</td>\n",
       "    </tr>\n",
       "    <tr>\n",
       "      <th>4607</th>\n",
       "      <td>2013-11-16 23:50:00</td>\n",
       "      <td>1009</td>\n",
       "      <td>-0.400728</td>\n",
       "      <td>-0.389063</td>\n",
       "      <td>-0.011666</td>\n",
       "      <td>Normal</td>\n",
       "      <td>Normal</td>\n",
       "    </tr>\n",
       "  </tbody>\n",
       "</table>\n",
       "<p>4608 rows × 7 columns</p>\n",
       "</div>"
      ],
      "text/plain": [
       "               timestamp  gridID    actual  predicted  residual  status  \\\n",
       "0    2013-11-01 00:00:00     216 -0.386095   0.000000 -0.386095  Normal   \n",
       "1    2013-11-01 00:10:00     216 -0.386095  -0.385008 -0.001087  Normal   \n",
       "2    2013-11-01 00:20:00     216 -0.386095  -0.385008 -0.001087  Normal   \n",
       "3    2013-11-01 00:30:00     216 -0.397706  -0.385008 -0.012698  Normal   \n",
       "4    2013-11-01 00:40:00     216 -0.389965  -0.396586  0.006621  Normal   \n",
       "...                  ...     ...       ...        ...       ...     ...   \n",
       "4603 2013-11-16 23:10:00    1009 -0.390243  -0.389081 -0.001162  Normal   \n",
       "4604 2013-11-16 23:20:00    1009 -0.400202  -0.389708 -0.010494  Normal   \n",
       "4605 2013-11-16 23:30:00    1009 -0.383850  -0.400108  0.016259  Normal   \n",
       "4606 2013-11-16 23:40:00    1009 -0.389440  -0.383424 -0.006016  Normal   \n",
       "4607 2013-11-16 23:50:00    1009 -0.400728  -0.389063 -0.011666  Normal   \n",
       "\n",
       "     actual_status  \n",
       "0           Normal  \n",
       "1           Normal  \n",
       "2           Normal  \n",
       "3           Normal  \n",
       "4           Normal  \n",
       "...            ...  \n",
       "4603        Normal  \n",
       "4604        Normal  \n",
       "4605        Normal  \n",
       "4606        Normal  \n",
       "4607        Normal  \n",
       "\n",
       "[4608 rows x 7 columns]"
      ]
     },
     "execution_count": 206,
     "metadata": {},
     "output_type": "execute_result"
    }
   ],
   "source": [
    "predicted_all"
   ]
  },
  {
   "cell_type": "code",
   "execution_count": 207,
   "id": "4701e9c3-5b2a-43be-8643-64efba74dbac",
   "metadata": {},
   "outputs": [],
   "source": [
    "# Full predictions and residuals\n",
    "error_test_df = predicted_all"
   ]
  },
  {
   "cell_type": "code",
   "execution_count": null,
   "id": "41acf113-12d5-4b25-affa-c96ef138f852",
   "metadata": {},
   "outputs": [],
   "source": []
  },
  {
   "cell_type": "code",
   "execution_count": 208,
   "id": "d9014bfa-ada5-40e3-98c6-56dfcc6b96f0",
   "metadata": {},
   "outputs": [],
   "source": [
    "metrics = []\n",
    "\n",
    "for grid, group in error_test_df.groupby('gridID'):\n",
    "    y_true = group['actual_status'].map({'Normal': 0, 'Abnormal': 1}).astype(int)\n",
    "    y_pred = group['status'].map({'Normal': 0, 'Abnormal': 1}).astype(int)\n",
    "\n",
    "    # Compute confusion matrix\n",
    "    try:\n",
    "        tn, fp, fn, tp = confusion_matrix(y_true, y_pred, labels=[0, 1]).ravel()\n",
    "    except ValueError:\n",
    "        tn = fp = fn = tp = float('nan')\n",
    "\n",
    "    # Compute AUROC, if possible\n",
    "    try:\n",
    "        auroc = roc_auc_score(y_true, group['residual'].abs())\n",
    "    except ValueError:\n",
    "        auroc = float('nan')\n",
    "\n",
    "    metrics.append({\n",
    "        'gridID': grid,\n",
    "        'accuracy': accuracy_score(y_true, y_pred),\n",
    "        'precision': precision_score(y_true, y_pred, zero_division=0),\n",
    "        'recall': recall_score(y_true, y_pred, zero_division=0),\n",
    "        'f1_score': f1_score(y_true, y_pred, zero_division=0),\n",
    "        'auroc': auroc,\n",
    "        'true_positive': tp,\n",
    "        'true_negative': tn,\n",
    "        'false_positive': fp,\n",
    "        'false_negative': fn\n",
    "    })"
   ]
  },
  {
   "cell_type": "code",
   "execution_count": 209,
   "id": "e9b666ff-93e4-4340-800e-2c0a697bd69f",
   "metadata": {},
   "outputs": [
    {
     "data": {
      "text/html": [
       "<div>\n",
       "<style scoped>\n",
       "    .dataframe tbody tr th:only-of-type {\n",
       "        vertical-align: middle;\n",
       "    }\n",
       "\n",
       "    .dataframe tbody tr th {\n",
       "        vertical-align: top;\n",
       "    }\n",
       "\n",
       "    .dataframe thead th {\n",
       "        text-align: right;\n",
       "    }\n",
       "</style>\n",
       "<table border=\"1\" class=\"dataframe\">\n",
       "  <thead>\n",
       "    <tr style=\"text-align: right;\">\n",
       "      <th></th>\n",
       "      <th>gridID</th>\n",
       "      <th>accuracy</th>\n",
       "      <th>precision</th>\n",
       "      <th>recall</th>\n",
       "      <th>f1_score</th>\n",
       "      <th>auroc</th>\n",
       "      <th>true_positive</th>\n",
       "      <th>true_negative</th>\n",
       "      <th>false_positive</th>\n",
       "      <th>false_negative</th>\n",
       "    </tr>\n",
       "  </thead>\n",
       "  <tbody>\n",
       "    <tr>\n",
       "      <th>0</th>\n",
       "      <td>216</td>\n",
       "      <td>0.956597</td>\n",
       "      <td>0.0</td>\n",
       "      <td>0.0</td>\n",
       "      <td>0.0</td>\n",
       "      <td>NaN</td>\n",
       "      <td>0</td>\n",
       "      <td>2204</td>\n",
       "      <td>100</td>\n",
       "      <td>0</td>\n",
       "    </tr>\n",
       "    <tr>\n",
       "      <th>1</th>\n",
       "      <td>1009</td>\n",
       "      <td>0.977865</td>\n",
       "      <td>0.0</td>\n",
       "      <td>0.0</td>\n",
       "      <td>0.0</td>\n",
       "      <td>NaN</td>\n",
       "      <td>0</td>\n",
       "      <td>2253</td>\n",
       "      <td>51</td>\n",
       "      <td>0</td>\n",
       "    </tr>\n",
       "  </tbody>\n",
       "</table>\n",
       "</div>"
      ],
      "text/plain": [
       "   gridID  accuracy  precision  recall  f1_score  auroc  true_positive  \\\n",
       "0     216  0.956597        0.0     0.0       0.0    NaN              0   \n",
       "1    1009  0.977865        0.0     0.0       0.0    NaN              0   \n",
       "\n",
       "   true_negative  false_positive  false_negative  \n",
       "0           2204             100               0  \n",
       "1           2253              51               0  "
      ]
     },
     "execution_count": 209,
     "metadata": {},
     "output_type": "execute_result"
    }
   ],
   "source": [
    "timestamp1 = datetime.datetime.now().strftime(\"%Y-%m-%d_%H-%M-%S\")\n",
    "metrics_df = pd.DataFrame(metrics)\n",
    "metrics_df"
   ]
  },
  {
   "cell_type": "code",
   "execution_count": 41,
   "id": "5ed984fe-25c9-4a86-9816-e60a9a87e673",
   "metadata": {},
   "outputs": [],
   "source": [
    "metrics_df.to_csv(f\"../results/sarima_model_metrics_{col}_{timestamp1}.csv\")"
   ]
  },
  {
   "cell_type": "code",
   "execution_count": 42,
   "id": "485c16bf-0640-4816-8e30-7aa564efdbf4",
   "metadata": {},
   "outputs": [
    {
     "data": {
      "text/plain": [
       "'CallIn'"
      ]
     },
     "execution_count": 42,
     "metadata": {},
     "output_type": "execute_result"
    }
   ],
   "source": [
    "col"
   ]
  },
  {
   "cell_type": "code",
   "execution_count": null,
   "id": "447f4d6d-eb18-4e9e-8e7e-0738383c9155",
   "metadata": {},
   "outputs": [],
   "source": []
  },
  {
   "cell_type": "markdown",
   "id": "ca48ed5c-ddf0-46a1-94f9-1ddc21e20ae6",
   "metadata": {},
   "source": [
    "## Forecasting"
   ]
  },
  {
   "cell_type": "code",
   "execution_count": null,
   "id": "3ee61a9a-4579-4d13-9e49-7999baf68745",
   "metadata": {},
   "outputs": [],
   "source": [
    "# df_eval = df_eval.groupby('timestamp').agg({\n",
    "#     'Internet': ['mean'],\n",
    "#     #'timestamp':['min']\n",
    "# }).rename(columns={'Internet mean': 'Internet'})"
   ]
  },
  {
   "cell_type": "code",
   "execution_count": null,
   "id": "149575c7-cf69-498e-bf14-d5de89dfd64d",
   "metadata": {},
   "outputs": [],
   "source": [
    "# df_eval.columns=['Internet']"
   ]
  },
  {
   "cell_type": "code",
   "execution_count": null,
   "id": "9edcea25-5295-4c3d-899f-542d102a1c92",
   "metadata": {},
   "outputs": [],
   "source": [
    "# # 1. Ensure df_eval is sorted and evenly spaced\n",
    "# df_eval = df_eval.sort_index()\n",
    "# df_eval = df_eval.asfreq('10min')\n",
    "\n",
    "# # 2. Forecast future values using the pre-trained model\n",
    "# steps = len(df_eval)\n",
    "# forecast = results.get_forecast(steps=steps)\n",
    "# forecast_mean = forecast.predicted_mean\n",
    "\n",
    "# # 3. Align forecast with actuals\n",
    "# y_true, y_pred = df_eval['Internet'].align(forecast_mean, join='inner')\n",
    "# residuals = y_true - y_pred\n",
    "\n",
    "# # 4. Anomaly detection using 95th percentile of residuals\n",
    "# threshold = np.percentile(np.abs(residuals), 95)\n",
    "# is_anomaly = np.abs(residuals) > threshold\n",
    "\n",
    "# # 5. Assign ground truth if you know rows 6167–6667 in df_eval are anomalies\n",
    "# actual_status = np.zeros(len(y_true), dtype=bool)\n",
    "# if len(y_true) > 6667:\n",
    "#     actual_status[6167:6668] = True  # index-based anomaly range\n",
    "\n",
    "# # 6. Compute metrics\n",
    "# try:\n",
    "#     auroc = roc_auc_score(actual_status, np.abs(residuals))\n",
    "# except ValueError:\n",
    "#     auroc = float('nan')\n",
    "\n",
    "# metrics_eval = {\n",
    "#     'accuracy': accuracy_score(actual_status, is_anomaly),\n",
    "#     'precision': precision_score(actual_status, is_anomaly, zero_division=0),\n",
    "#     'recall': recall_score(actual_status, is_anomaly, zero_division=0),\n",
    "#     'f1_score': f1_score(actual_status, is_anomaly, zero_division=0),\n",
    "#     'auroc': auroc\n",
    "# }"
   ]
  },
  {
   "cell_type": "code",
   "execution_count": null,
   "id": "6bcb0e13-adb8-44a9-96ec-0e65ea08dd02",
   "metadata": {},
   "outputs": [],
   "source": [
    "# metrics_eval_df = pd.DataFrame([metrics_eval])"
   ]
  },
  {
   "cell_type": "code",
   "execution_count": null,
   "id": "28e40f83-e653-4734-9c87-f019869c6311",
   "metadata": {},
   "outputs": [],
   "source": [
    "# forecast_eval_df = pd.DataFrame({\n",
    "#     'timestamp': y_true.index,\n",
    "#     'actual': y_true.values,\n",
    "#     'predicted': y_pred.values,\n",
    "#     'residual': residuals.values,\n",
    "#     'is_anomaly': is_anomaly,\n",
    "#     'actual_status': actual_status\n",
    "# })"
   ]
  },
  {
   "cell_type": "code",
   "execution_count": null,
   "id": "38cdb2bf-39e2-4232-85c2-37232b915f06",
   "metadata": {},
   "outputs": [],
   "source": [
    "# metrics_eval_df.to_csv(f\"sarima_model_eval_metrics_{col}_{timestamp1}.csv\")"
   ]
  },
  {
   "cell_type": "code",
   "execution_count": null,
   "id": "3f2a824b-3ed4-4eb3-8eb1-316ba8dff432",
   "metadata": {},
   "outputs": [],
   "source": [
    "# forecast_eval_df.to_csv(f\"sarima_forecast_eval_{col}_{timestamp1}.csv\")"
   ]
  },
  {
   "cell_type": "code",
   "execution_count": null,
   "id": "b7d97218-7307-445c-bc91-c83063de4ad5",
   "metadata": {},
   "outputs": [],
   "source": [
    "# steps = 144 * 15  # 144 points per day × 7 days\n",
    "# forecast = results.get_forecast(steps=steps)\n",
    "\n",
    "# # Get predicted mean\n",
    "# forecast_mean = forecast.predicted_mean\n",
    "\n",
    "# ## Confidence interval\n",
    "# conf_int = forecast.conf_int()"
   ]
  },
  {
   "cell_type": "code",
   "execution_count": 49,
   "id": "2e552af0-7338-46e6-bbfe-700d35685abe",
   "metadata": {},
   "outputs": [],
   "source": [
    "# plt.figure(figsize=(14, 4))\n",
    "# plt.plot(anomaly_df['timestamp'], anomaly_df['residual'])\n",
    "# plt.axhline(anomaly_df['residual'].mean(), color='red', linestyle='--', label='Threshold')\n",
    "# plt.title(f'[col] Usage with SARIMA residuals')\n",
    "# # plt.legend()\n",
    "# plt.xticks(rotation=45)\n",
    "# plt.tight_layout()\n",
    "# plt.show()"
   ]
  },
  {
   "cell_type": "code",
   "execution_count": null,
   "id": "bbdd274f-0e8b-499a-9968-93cae96e62d2",
   "metadata": {},
   "outputs": [],
   "source": []
  },
  {
   "cell_type": "code",
   "execution_count": null,
   "id": "950aad8a-c940-4867-8797-5dca4d2002a0",
   "metadata": {},
   "outputs": [],
   "source": [
    "# grid = all_anomalies['gridID'].unique()[0]\n",
    "# subset = df[df['gridID'] == grid].sort_index()\n",
    "\n",
    "# plt.figure(figsize=(14, 4))\n",
    "# plt.plot(subset.index, subset['Internet'], label='Internet Usage')\n",
    "# plt.scatter(all_anomalies[all_anomalies['gridID'] == grid]['timestamp'],\n",
    "#             subset.loc[all_anomalies[all_anomalies['gridID'] == grid]['timestamp'], 'Internet'],\n",
    "#             color='red', label='Anomalies', zorder=5)\n",
    "# plt.title(f'Internet Usage with SARIMA Outliers (Grid {grid})')\n",
    "# plt.legend()\n",
    "# plt.xticks(rotation=45)\n",
    "# plt.tight_layout()\n",
    "# plt.show()"
   ]
  },
  {
   "cell_type": "code",
   "execution_count": null,
   "id": "b0650eb5-8132-49a2-a2dd-d6aa48d06031",
   "metadata": {},
   "outputs": [],
   "source": []
  },
  {
   "cell_type": "code",
   "execution_count": null,
   "id": "021dcb90-d4fe-44ec-bf3d-35c04f2b5720",
   "metadata": {},
   "outputs": [],
   "source": [
    "# ### Step 6: Anomaly detection\n",
    "\n",
    "# threshold = np.percentile(reconstruction_error, 95)\n",
    "# anomalies = reconstruction_error > threshold\n"
   ]
  },
  {
   "cell_type": "code",
   "execution_count": null,
   "id": "c83403cb-a377-4cc3-98f2-0bfba5eccdaf",
   "metadata": {},
   "outputs": [],
   "source": [
    "# # Create a DataFrame to group and plot\n",
    "# error_df = pd.DataFrame({\n",
    "#     'timestamp': timestamps_train,\n",
    "#     'gridID': grids_train,\n",
    "#     'reconstruction_error': reconstruction_error\n",
    "# })\n",
    "\n",
    "# # Optional: plot top N grids or all\n",
    "# grids_to_plot = error_df['gridID'].unique()  # change slice to plot more/less"
   ]
  },
  {
   "cell_type": "code",
   "execution_count": null,
   "id": "cbcccd51-3232-4988-b830-66b20fa692ea",
   "metadata": {},
   "outputs": [],
   "source": [
    "# plt.figure(figsize=(14, 6))\n",
    "\n",
    "# for grid in grids_to_plot:\n",
    "#     subset = error_df[error_df['gridID'] == grid]\n",
    "#     plt.plot(subset['timestamp'], subset['reconstruction_error'], label=f'Grid {grid}')\n",
    "\n",
    "# plt.axhline(threshold, color='red', linestyle='--', label='Threshold')\n",
    "# plt.title(\"Reconstruction Error by Grid\")\n",
    "# plt.xlabel(\"Timestamp\")\n",
    "# plt.xticks(rotation=45)\n",
    "# plt.ylabel(\"Reconstruction Error\")\n",
    "# plt.legend()\n",
    "# plt.tight_layout()\n",
    "# plt.show()"
   ]
  },
  {
   "cell_type": "markdown",
   "id": "a35c9711-45cc-4bc7-81fb-fd11ab0bd2c4",
   "metadata": {},
   "source": [
    "## test data"
   ]
  },
  {
   "cell_type": "code",
   "execution_count": null,
   "id": "6ded99bd-10ae-4566-9e5f-b65917160a80",
   "metadata": {},
   "outputs": [],
   "source": [
    "# # Create test sequences\n",
    "# seq_len = 144\n",
    "# X_test, timestamps_test, grid_ids_test, row_indices_test = create_sequences_with_time(\n",
    "#     df_test, seq_len=seq_len, return_meta=True)\n",
    "\n",
    "# X_test_tensor = torch.tensor(X_test, dtype=torch.float32).to(device)"
   ]
  },
  {
   "cell_type": "code",
   "execution_count": null,
   "id": "d9a0363b-6cbf-42a2-9351-8bf2209a0701",
   "metadata": {},
   "outputs": [],
   "source": [
    "# model.eval()\n",
    "# with torch.no_grad():\n",
    "#     X_pred = model(X_test_tensor)\n",
    "#     mse = nn.MSELoss(reduction='none')(X_pred, X_test_tensor)\n",
    "#     reconstruction_error = mse.mean(dim=(1, 2)).cpu().numpy()"
   ]
  },
  {
   "cell_type": "code",
   "execution_count": null,
   "id": "93ac52b2-3778-4e35-bd7e-edd851346a0e",
   "metadata": {},
   "outputs": [],
   "source": [
    "# # Create a DataFrame to group and plot\n",
    "# error_test_df = pd.DataFrame({\n",
    "#     'timestamp': timestamps_test,\n",
    "#     'gridID': grid_ids_test,\n",
    "#     'reconstruction_error': reconstruction_error\n",
    "# })"
   ]
  },
  {
   "cell_type": "code",
   "execution_count": null,
   "id": "1b2874cc-fe3a-4bf9-9e98-67a103aaff02",
   "metadata": {},
   "outputs": [],
   "source": [
    "# # Rename for clarity and join back\n",
    "# grid_thresholds = grid_thresholds.rename('grid_threshold')\n",
    "\n",
    "# # Merge with original DataFrame\n",
    "# error_test_df = error_test_df.merge(grid_thresholds, on='gridID')\n",
    "\n",
    "# # Identify anomalies based on grid-wise thresholds\n",
    "# error_test_df['predicted'] = error_test_df['reconstruction_error'] > error_test_df['grid_threshold']"
   ]
  },
  {
   "cell_type": "code",
   "execution_count": null,
   "id": "150e368e-e2c2-4f4f-8c5c-4443bfb68249",
   "metadata": {},
   "outputs": [],
   "source": [
    "# ## Ground True\n",
    "# error_test_df['actual']=False\n",
    "# error_test_df.loc[6167:6668, 'actual']=True"
   ]
  },
  {
   "cell_type": "code",
   "execution_count": null,
   "id": "d82a5133-6d4b-4bc5-944e-3bef770bee9d",
   "metadata": {},
   "outputs": [],
   "source": [
    "# error_test_df"
   ]
  },
  {
   "cell_type": "code",
   "execution_count": null,
   "id": "529e34d3-a3a7-4fa0-aaf9-ccd53b908d1c",
   "metadata": {},
   "outputs": [],
   "source": [
    "# # Mark known anomalies in index 6167–6667\n",
    "# anomaly_range = range(6167, 6668)\n",
    "\n",
    "# ## Ground truth: 1 if sequence ends in known anomaly range, else 0\n",
    "# y_true = np.zeros(len(X_test), dtype=int)\n",
    "# y_true[6167:6668] = 1\n",
    "\n",
    "# ## Predicted\n",
    "# # Use threshold from training (e.g., 95th percentile)\n",
    "# threshold = np.percentile(reconstruction_error, 95)\n",
    "# y_pred = (reconstruction_error > threshold).astype(int)"
   ]
  },
  {
   "cell_type": "code",
   "execution_count": null,
   "id": "7e02c0db-4e40-4321-b397-7a6680a76c27",
   "metadata": {},
   "outputs": [],
   "source": [
    "# plt.plot(reconstruction_error)\n",
    "# plt.plot(error_test_df['grid_threshold'])"
   ]
  },
  {
   "cell_type": "code",
   "execution_count": null,
   "id": "c0e74fb0-3b2a-4865-8bb1-746e600470a7",
   "metadata": {},
   "outputs": [],
   "source": [
    "# np.percentile(reconstruction_error, 85)"
   ]
  },
  {
   "cell_type": "code",
   "execution_count": null,
   "id": "4ddd338e-3b2f-4fc5-9197-fbcdafff6e9d",
   "metadata": {},
   "outputs": [],
   "source": [
    "# grids_to_plot = error_test_df['gridID'].unique()\n",
    "\n",
    "# # error_test_df['grid_threshold'][error_test_df['gridID']==grids_to_plot[0]].unique()"
   ]
  },
  {
   "cell_type": "code",
   "execution_count": null,
   "id": "36b13ec8-ab6b-4586-9c91-f7ce15063d32",
   "metadata": {},
   "outputs": [],
   "source": []
  },
  {
   "cell_type": "code",
   "execution_count": null,
   "id": "75b094f3-e968-461f-865f-6be74c5e4791",
   "metadata": {},
   "outputs": [],
   "source": [
    "# plt.figure(figsize=(14, 6))\n",
    "\n",
    "# for grid in grids_to_plot:\n",
    "#     subset = error_test_df[error_test_df['gridID'] == grid]\n",
    "#     plt.plot(subset['timestamp'], subset['reconstruction_error'], label=f'Grid {grid}')\n",
    "\n",
    "# plt.axhline(subset['grid_threshold'].values[0], color='red', linestyle='--', label='Threshold')\n",
    "# plt.title(\"Reconstruction Error by Grid\")\n",
    "# plt.xlabel(\"Timestamp\")\n",
    "# plt.xticks(rotation=45)\n",
    "# plt.ylabel(\"Reconstruction Error\")\n",
    "# plt.legend()\n",
    "# plt.tight_layout()\n",
    "# plt.show()"
   ]
  },
  {
   "cell_type": "code",
   "execution_count": null,
   "id": "66939411-ca66-4460-bfac-1827b1444ccb",
   "metadata": {},
   "outputs": [],
   "source": [
    "# for grid in grids_to_plot:\n",
    "#     subset = error_test_df[error_test_df['gridID'] == grid]\n",
    "\n",
    "#     plt.figure(figsize=(12, 4))\n",
    "#     plt.plot(subset['timestamp'], subset['reconstruction_error'], label='Reconstruction Error')\n",
    "\n",
    "#     # Grid-specific threshold\n",
    "#     # threshold = subset['grid_threshold'].iloc[0]\n",
    "#     threshold = np.percentile(error_test_df['reconstruction_error'], 90)\n",
    "#     plt.axhline(threshold, color='red', linestyle='--', label='Threshold')\n",
    "\n",
    "#     plt.title(f\"Reconstruction Error for Grid {grid}\")\n",
    "#     plt.xlabel(\"Timestamp\")\n",
    "#     plt.ylabel(\"Reconstruction Error\")\n",
    "#     plt.xticks(rotation=45)\n",
    "#     plt.legend()\n",
    "#     plt.tight_layout()\n",
    "#     plt.show()"
   ]
  },
  {
   "cell_type": "code",
   "execution_count": null,
   "id": "190b3716-acb2-4b29-b333-5a1cc7369a56",
   "metadata": {},
   "outputs": [],
   "source": [
    "# y_pred = error_test_df['predicted']\n",
    "# y_true = error_test_df['actual']"
   ]
  },
  {
   "cell_type": "code",
   "execution_count": null,
   "id": "f7c6e39c-d4f0-4f80-8901-e9b65748fd40",
   "metadata": {},
   "outputs": [],
   "source": [
    "# cm =confusion_matrix(y_true, y_pred)"
   ]
  },
  {
   "cell_type": "code",
   "execution_count": null,
   "id": "865d741c-5d87-46fc-8653-892e396f2ab5",
   "metadata": {},
   "outputs": [],
   "source": [
    "# plt.figure(figsize=(6, 4))\n",
    "# sns.heatmap(cm, annot=True, fmt='d', cmap='Blues',\n",
    "#             xticklabels=['Normal', 'Anomaly'],\n",
    "#             yticklabels=['Normal', 'Anomaly'])\n",
    "\n",
    "# plt.xlabel('Predicted Label')\n",
    "# plt.ylabel('True Label')\n",
    "# plt.title('Confusion Matrix - Anomaly Detection')\n",
    "# plt.tight_layout()\n",
    "# plt.show()"
   ]
  },
  {
   "cell_type": "code",
   "execution_count": null,
   "id": "a91a488b-5704-4b19-9d4b-045f529ad700",
   "metadata": {},
   "outputs": [],
   "source": [
    "# accuracy = accuracy_score(y_true, y_pred)\n",
    "# precision = precision_score(y_true, y_pred, zero_division=0)\n",
    "# recall = recall_score(y_true, y_pred, zero_division=0)\n",
    "# f1 = f1_score(y_true, y_pred, zero_division=0)\n",
    "\n",
    "# # AUROC — use raw scores, not thresholded predictions\n",
    "# try:\n",
    "#     auroc = roc_auc_score(y_true, y_pred)\n",
    "# except ValueError:\n",
    "#     auroc = float('nan')  # AUROC not defined if only 1 class is present"
   ]
  },
  {
   "cell_type": "code",
   "execution_count": null,
   "id": "fb63d9db-7b29-49b6-b532-645b814d7152",
   "metadata": {},
   "outputs": [],
   "source": [
    "# print(f\"Accuracy:  {accuracy:.4f}\")\n",
    "# print(f\"Precision: {precision:.4f}\")\n",
    "# print(f\"Recall:    {recall:.4f}\")\n",
    "# print(f\"F1-score:  {f1:.4f}\")\n",
    "# print(f\"AUROC:     {auroc:.4f}\")"
   ]
  },
  {
   "cell_type": "code",
   "execution_count": null,
   "id": "9c68fda9-3194-46c4-abb4-e819ab0a8e6b",
   "metadata": {},
   "outputs": [],
   "source": [
    "# timestamp2 = datetime.datetime.now().strftime(\"%Y-%m-%d_%H-%M-%S\")"
   ]
  },
  {
   "cell_type": "code",
   "execution_count": null,
   "id": "71711886-9abe-4548-8c57-dd5fcc97b146",
   "metadata": {},
   "outputs": [],
   "source": [
    "# df_res = pd.DataFrame({\"Variable\":pd.Series(f'{col}'),\n",
    "#                        \"Accuracy\":pd.Series(accuracy),\n",
    "#                        \"Precision\":pd.Series(precision), \n",
    "#                        \"Recall\":pd.Series(recall), \n",
    "#                        \"F1Score\":pd.Series(f1), \n",
    "#                        \"Auroc\":pd.Series(auroc)})"
   ]
  },
  {
   "cell_type": "code",
   "execution_count": null,
   "id": "c8799a69-7d04-469e-8d3f-176743d657ca",
   "metadata": {},
   "outputs": [],
   "source": [
    "# df_res"
   ]
  },
  {
   "cell_type": "code",
   "execution_count": null,
   "id": "458dc567-fbf6-43a2-b534-6af5f6d35396",
   "metadata": {},
   "outputs": [],
   "source": [
    "# df_res.to_csv(f'LSTM_results_{col}_timestamp2.csv')"
   ]
  },
  {
   "cell_type": "code",
   "execution_count": null,
   "id": "d3a9856b-bfd0-41eb-80db-ebf53dd52fbf",
   "metadata": {},
   "outputs": [],
   "source": [
    "### Files to return\n",
    "# LTSM_*_datetime.csv\n",
    "# train_stats_*_datetime.txt\n",
    "# testing_stats_*_datetime.txt"
   ]
  }
 ],
 "metadata": {
  "kernelspec": {
   "display_name": "Python 3 (ipykernel)",
   "language": "python",
   "name": "python3"
  },
  "language_info": {
   "codemirror_mode": {
    "name": "ipython",
    "version": 3
   },
   "file_extension": ".py",
   "mimetype": "text/x-python",
   "name": "python",
   "nbconvert_exporter": "python",
   "pygments_lexer": "ipython3",
   "version": "3.12.7"
  }
 },
 "nbformat": 4,
 "nbformat_minor": 5
}
